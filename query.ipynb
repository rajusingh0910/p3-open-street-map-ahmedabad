{
 "cells": [
  {
   "cell_type": "code",
   "execution_count": 43,
   "metadata": {},
   "outputs": [
    {
     "name": "stdout",
     "output_type": "stream",
     "text": [
      "\n"
     ]
    }
   ],
   "source": [
    "\"\"\"\n",
    "Queries\n",
    "\"\"\"\n",
    "\n",
    "import csv, sqlite3\n",
    "\n",
    "def number_of_nodes():\n",
    "    result = cur.execute('SELECT COUNT(*) FROM nodes')\n",
    "    return result.fetchone()[0]\n",
    "\n",
    "def number_of_ways():\n",
    "    result = cur.execute('SELECT COUNT(*) FROM ways')\n",
    "    return result.fetchone()[0]\n",
    "\n",
    "def number_of_unique_users():\n",
    "    result = cur.execute('SELECT COUNT(DISTINCT(e.uid)) \\\n",
    "            FROM (SELECT uid FROM nodes UNION ALL SELECT uid FROM ways) e')\n",
    "    return result.fetchone()[0]\n",
    "    \n",
    "def top_contributing_users():\n",
    "    users = []\n",
    "    for row in cur.execute('SELECT e.user, COUNT(*) as num \\\n",
    "            FROM (SELECT user FROM nodes UNION ALL SELECT user FROM ways) e \\\n",
    "            GROUP BY e.user \\\n",
    "            ORDER BY num DESC \\\n",
    "            LIMIT 10'):\n",
    "        users.append(row)\n",
    "    return users\n",
    "\n",
    "def number_of_users_contributing_once():\n",
    "    result = cur.execute('SELECT COUNT(*) \\\n",
    "            FROM \\\n",
    "                (SELECT e.user, COUNT(*) as num \\\n",
    "                 FROM (SELECT user FROM nodes UNION ALL SELECT user FROM ways) e \\\n",
    "                 GROUP BY e.user \\\n",
    "                 HAVING num=1) u')\n",
    "    return result.fetchone()[0]\n",
    "\n",
    "def common_ammenities():\n",
    "    for row in cur.execute('SELECT value, COUNT(*) as num \\\n",
    "            FROM nodes_tags \\\n",
    "            WHERE key=\"amenity\" \\\n",
    "            GROUP BY value \\\n",
    "            ORDER BY num DESC \\\n",
    "            LIMIT 10;'):\n",
    "        return row\n",
    "\n",
    "def biggest_religion():\n",
    "    for row in cur.execute('SELECT nodes_tags.value, COUNT(*) as num \\\n",
    "                FROM nodes_tags \\\n",
    "                JOIN (SELECT DISTINCT(id) FROM nodes_tags WHERE value=\"place_of_worship\") i \\\n",
    "                ON nodes_tags.id=i.id \\\n",
    "            WHERE nodes_tags.key=\"religion\" \\\n",
    "            GROUP BY nodes_tags.value \\\n",
    "            ORDER BY num DESC \\\n",
    "            LIMIT 1;'):\n",
    "        return row\n",
    "\n",
    "def popular_cuisines():\n",
    "    for row in cur.execute('SELECT nodes_tags.value, COUNT(*) as num \\\n",
    "            FROM nodes_tags \\\n",
    "                JOIN (SELECT DISTINCT(id) FROM nodes_tags WHERE value=\"restaurant\") i \\\n",
    "                ON nodes_tags.id=i.id \\\n",
    "            WHERE nodes_tags.key=\"cuisine\" \\\n",
    "            GROUP BY nodes_tags.value \\\n",
    "            ORDER BY num DESC'):\n",
    "        return row\n",
    "    \n",
    "def popular_banks():\n",
    "    for row in cur.execute(' SELECT nodes_tags.value, COUNT(*) as num\\\n",
    "        FROM nodes_tags\\\n",
    "            JOIN (SELECT DISTINCT(id) FROM nodes_tags WHERE value=\"bank\") i\\\n",
    "            ON nodes_tags.id=i.id\\\n",
    "        WHERE nodes_tags.key=\"name\"\\\n",
    "        GROUP BY nodes_tags.value\\\n",
    "        ORDER BY num DESC\\\n",
    "        LIMIT 5'):\n",
    "        return row\n",
    "\n",
    "\n",
    "if __name__ == '__main__':\n",
    "\n",
    "    con = sqlite3.connect(r\"C:\\Users\\Chaudhary\\Downloads\\udacity\\data wrangling\\ahmedabad\\ahmedabad.db\")\n",
    "    cur = con.cursor()\n"
   ]
  },
  {
   "cell_type": "code",
   "execution_count": 44,
   "metadata": {},
   "outputs": [
    {
     "name": "stdout",
     "output_type": "stream",
     "text": [
      "Number of nodes:  550820\n"
     ]
    }
   ],
   "source": [
    "print \"Number of nodes: \" , number_of_nodes()"
   ]
  },
  {
   "cell_type": "code",
   "execution_count": 45,
   "metadata": {},
   "outputs": [
    {
     "name": "stdout",
     "output_type": "stream",
     "text": [
      "Number of ways:  82308\n"
     ]
    }
   ],
   "source": [
    "print \"Number of ways: \" , number_of_ways()"
   ]
  },
  {
   "cell_type": "code",
   "execution_count": 46,
   "metadata": {},
   "outputs": [
    {
     "name": "stdout",
     "output_type": "stream",
     "text": [
      "Number of unique users:  364\n"
     ]
    }
   ],
   "source": [
    "print \"Number of unique users: \" , number_of_unique_users()"
   ]
  },
  {
   "cell_type": "code",
   "execution_count": 47,
   "metadata": {},
   "outputs": [
    {
     "name": "stdout",
     "output_type": "stream",
     "text": [
      "Top contributing users:  [(u'uday01', 177284), (u'sramesh', 136707), (u'chaitanya110', 123131), (u'shashi2', 49502), (u'shravan91', 22667), (u'vkvora', 21961), (u'shiva05', 19669), (u'bhanu3', 12515), (u'Oberaffe', 7094), (u'kailashdhirwani', 5877)]\n"
     ]
    }
   ],
   "source": [
    "print \"Top contributing users: \" , top_contributing_users()"
   ]
  },
  {
   "cell_type": "code",
   "execution_count": 48,
   "metadata": {},
   "outputs": [
    {
     "name": "stdout",
     "output_type": "stream",
     "text": [
      "Number of users contributing once:  95\n"
     ]
    }
   ],
   "source": [
    "print \"Number of users contributing once: \" , number_of_users_contributing_once()"
   ]
  },
  {
   "cell_type": "code",
   "execution_count": 49,
   "metadata": {},
   "outputs": [
    {
     "name": "stdout",
     "output_type": "stream",
     "text": [
      "Common ammenities:  (u'place_of_worship', 69)\n"
     ]
    }
   ],
   "source": [
    "print \"Common ammenities: \" , common_ammenities()"
   ]
  },
  {
   "cell_type": "code",
   "execution_count": 50,
   "metadata": {},
   "outputs": [
    {
     "name": "stdout",
     "output_type": "stream",
     "text": [
      "Biggest religion:  (u'hindu', 34)\n"
     ]
    }
   ],
   "source": [
    "print \"Biggest religion: \" , biggest_religion()"
   ]
  },
  {
   "cell_type": "code",
   "execution_count": 51,
   "metadata": {},
   "outputs": [
    {
     "name": "stdout",
     "output_type": "stream",
     "text": [
      "Popular cuisines:  (u'regional', 7)\n"
     ]
    }
   ],
   "source": [
    "print \"Popular cuisines: \" , popular_cuisines()"
   ]
  },
  {
   "cell_type": "code",
   "execution_count": 53,
   "metadata": {},
   "outputs": [
    {
     "name": "stdout",
     "output_type": "stream",
     "text": [
      "Most Popular Banks:  (u'Bank of Baroda', 4)\n"
     ]
    }
   ],
   "source": [
    "print \"Most Popular Banks: \" , popular_banks()"
   ]
  },
  {
   "cell_type": "markdown",
   "metadata": {},
   "source": [
    "### Additional Suggestion and Ideas\n",
    "\n",
    "#### Control typo errors\n",
    "\n",
    "We can build parser which parse every word input by the users.\n",
    "We can make some rules or patterns to input data which users follow everytime to input their data. This will also restrict users input in their native language.\n",
    "We can develope script or bot to clean the data regularly or certain period.\n",
    "\n",
    "#### More information\n",
    "\n",
    "The tourists or even the city people search map to see the basic amenities provided in the city or what are the popular places and attractions in the city or near outside the city. So, the users must be motivated to also provide these informations in the map.\n",
    "If we can provide these informations then there are more chances to increase views on the map because many people directly enter the famous name on the map.\n",
    "\n",
    "#### Further Improvement\n",
    "One way to improve this numbers is to leverage the public data provided. Accessibility information for hundreds of restaurants, cafes, tourist attractions, community centers, and other public spaces could be added to the dataset. Programmatically extracting the yes/no information and adding it to the OpenStreetMap dataset would likely be most efficient. The more detailed comments in the TAVL spreadsheet could even be programmatically added under the OpenStreetMap \"note\" key. One difficulty would be dealing with naming inconsistencies between AccessTO/TAVL data and nodes already in the OpenStreetMap dataset, though this could be overcome with careful string handling and a human verifying inputted data.\n"
   ]
  }
 ],
 "metadata": {
  "kernelspec": {
   "display_name": "Python 2",
   "language": "python",
   "name": "python2"
  },
  "language_info": {
   "codemirror_mode": {
    "name": "ipython",
    "version": 2
   },
   "file_extension": ".py",
   "mimetype": "text/x-python",
   "name": "python",
   "nbconvert_exporter": "python",
   "pygments_lexer": "ipython2",
   "version": "2.7.13"
  }
 },
 "nbformat": 4,
 "nbformat_minor": 2
}
